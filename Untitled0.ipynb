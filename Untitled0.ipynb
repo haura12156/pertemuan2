{
  "nbformat": 4,
  "nbformat_minor": 0,
  "metadata": {
    "colab": {
      "provenance": [],
      "authorship_tag": "ABX9TyMWY827iV03VPOnv8HJgT6d",
      "include_colab_link": true
    },
    "kernelspec": {
      "name": "python3",
      "display_name": "Python 3"
    },
    "language_info": {
      "name": "python"
    }
  },
  "cells": [
    {
      "cell_type": "markdown",
      "metadata": {
        "id": "view-in-github",
        "colab_type": "text"
      },
      "source": [
        "<a href=\"https://colab.research.google.com/github/haura12156/pertemuan2/blob/main/Untitled0.ipynb\" target=\"_parent\"><img src=\"https://colab.research.google.com/assets/colab-badge.svg\" alt=\"Open In Colab\"/></a>"
      ]
    },
    {
      "cell_type": "code",
      "execution_count": 1,
      "metadata": {
        "colab": {
          "base_uri": "https://localhost:8080/"
        },
        "id": "O3oDAWGUDF1v",
        "outputId": "9695822e-805b-4614-e9fb-4b3290f317d3"
      },
      "outputs": [
        {
          "output_type": "stream",
          "name": "stdout",
          "text": [
            "[3, 7, 8, 10, 11, 22, 33, 54, 100]\n"
          ]
        }
      ],
      "source": [
        "nomor_acak = [10, 8, 3, 22, 33, 7, 11, 100, 54]\n",
        "nomor_acak.sort()\n",
        "print(nomor_acak)"
      ]
    }
  ]
}